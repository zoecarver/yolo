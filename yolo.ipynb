{
 "cells": [
  {
   "cell_type": "code",
   "execution_count": 1,
   "metadata": {
    "ExecuteTime": {
     "end_time": "2018-12-21T19:21:23.029194Z",
     "start_time": "2018-12-21T19:21:20.727263Z"
    }
   },
   "outputs": [
    {
     "name": "stderr",
     "output_type": "stream",
     "text": [
      "Using TensorFlow backend.\n"
     ]
    }
   ],
   "source": [
    "import numpy as np\n",
    "\n",
    "from keras.models import Sequential, Model\n",
    "from keras.layers import Conv2D, LeakyReLU, UpSampling2D, InputLayer, Concatenate, Input, merge, concatenate, Lambda, Reshape\n",
    "from keras.layers.normalization import BatchNormalization\n",
    "from keras.utils import plot_model\n",
    "\n",
    "import tensorflow as tf"
   ]
  },
  {
   "cell_type": "code",
   "execution_count": 2,
   "metadata": {
    "ExecuteTime": {
     "end_time": "2018-12-21T19:21:39.116903Z",
     "start_time": "2018-12-21T19:21:39.109309Z"
    }
   },
   "outputs": [],
   "source": [
    "def parse_config(cfg_path, verbose=False):\n",
    "    file = open(cfg_path, 'r')\n",
    "    lines = file.readlines()\n",
    "        \n",
    "    # get rid of comments and blank lines and white space\n",
    "    lines = [x for x in lines if len(x) > 1]\n",
    "    lines = [x for x in lines if x[0] != '#']\n",
    "    lines = [x.rstrip().lstrip() for x in lines]\n",
    "\n",
    "    block = {}\n",
    "    blocks = []\n",
    "    \n",
    "    for line in lines:\n",
    "        if verbose: print('valuating line: %s' % line)\n",
    "        \n",
    "        if line[0] == '[': # new block start\n",
    "            if len(block) != 0: # if the block inst empty (has data) then reset it\n",
    "                blocks.append(block)\n",
    "                block = {}\n",
    "                \n",
    "            block['type'] = line[1:-1]\n",
    "        else:\n",
    "            key, value = line.split('=')\n",
    "            key, value = key.rstrip(), value.lstrip()\n",
    "            block[key] = value\n",
    "\n",
    "    return blocks"
   ]
  },
  {
   "cell_type": "code",
   "execution_count": 3,
   "metadata": {
    "ExecuteTime": {
     "end_time": "2018-12-22T01:25:21.253572Z",
     "start_time": "2018-12-22T01:25:21.237016Z"
    }
   },
   "outputs": [],
   "source": [
    "## The old network creator"
   ]
  },
  {
   "cell_type": "code",
   "execution_count": 4,
   "metadata": {
    "ExecuteTime": {
     "end_time": "2018-12-22T01:25:24.561478Z",
     "start_time": "2018-12-22T01:25:23.819744Z"
    }
   },
   "outputs": [
    {
     "ename": "NameError",
     "evalue": "name 'blocks' is not defined",
     "output_type": "error",
     "traceback": [
      "\u001b[0;31m---------------------------------------------------------------------------\u001b[0m",
      "\u001b[0;31mNameError\u001b[0m                                 Traceback (most recent call last)",
      "\u001b[0;32m<ipython-input-4-ab2d1db8d02b>\u001b[0m in \u001b[0;36m<module>\u001b[0;34m\u001b[0m\n\u001b[1;32m      6\u001b[0m \u001b[0mshortcut\u001b[0m \u001b[0;34m=\u001b[0m \u001b[0;32mNone\u001b[0m\u001b[0;34m\u001b[0m\u001b[0m\n\u001b[1;32m      7\u001b[0m \u001b[0;34m\u001b[0m\u001b[0m\n\u001b[0;32m----> 8\u001b[0;31m \u001b[0;32mfor\u001b[0m \u001b[0mindex\u001b[0m\u001b[0;34m,\u001b[0m \u001b[0mblock\u001b[0m \u001b[0;32min\u001b[0m \u001b[0menumerate\u001b[0m\u001b[0;34m(\u001b[0m\u001b[0mblocks\u001b[0m\u001b[0;34m[\u001b[0m\u001b[0;36m1\u001b[0m\u001b[0;34m:\u001b[0m\u001b[0;34m]\u001b[0m\u001b[0;34m)\u001b[0m\u001b[0;34m:\u001b[0m \u001b[0;31m# block 0 specifies network info\u001b[0m\u001b[0;34m\u001b[0m\u001b[0m\n\u001b[0m\u001b[1;32m      9\u001b[0m     \u001b[0mprint\u001b[0m\u001b[0;34m(\u001b[0m\u001b[0;34m'%s, index: %i/%i'\u001b[0m \u001b[0;34m%\u001b[0m \u001b[0;34m(\u001b[0m\u001b[0mblock\u001b[0m\u001b[0;34m[\u001b[0m\u001b[0;34m'type'\u001b[0m\u001b[0;34m]\u001b[0m\u001b[0;34m,\u001b[0m \u001b[0mindex\u001b[0m\u001b[0;34m,\u001b[0m \u001b[0mlen\u001b[0m\u001b[0;34m(\u001b[0m\u001b[0mblocks\u001b[0m\u001b[0;34m)\u001b[0m\u001b[0;34m)\u001b[0m\u001b[0;34m)\u001b[0m\u001b[0;34m\u001b[0m\u001b[0m\n\u001b[1;32m     10\u001b[0m     \u001b[0;32mif\u001b[0m \u001b[0mindex\u001b[0m \u001b[0;34m>\u001b[0m \u001b[0;36m20\u001b[0m\u001b[0;34m:\u001b[0m \u001b[0;32mcontinue\u001b[0m\u001b[0;34m\u001b[0m\u001b[0m\n",
      "\u001b[0;31mNameError\u001b[0m: name 'blocks' is not defined"
     ]
    }
   ],
   "source": [
    "main_modle = Sequential()\n",
    "\n",
    "all_modules = [Input((416, 416, 3))] # add InputLayer for sequential\n",
    "module = all_modules[-1]\n",
    "\n",
    "shortcut = None\n",
    "\n",
    "for index, block in enumerate(blocks[1:]): # block 0 specifies network info\n",
    "    print('%s, index: %i/%i' % (block['type'], index, len(blocks)))\n",
    "    if index > 20: continue\n",
    "    \n",
    "    ### Conv(ish) layers\n",
    "    if block['type'] == 'convolutional':\n",
    "        # layer config\n",
    "        activation = block['activation']\n",
    "        \n",
    "        bais = False\n",
    "        try:\n",
    "            batch_normalize = int(block['batch_normalize'])\n",
    "        except:\n",
    "            batch_normalize = 0\n",
    "            bais = True\n",
    "            \n",
    "        filters = int(block['filters'])\n",
    "        padding = int(block['pad'])\n",
    "        kerel_size = int(block['size'])\n",
    "        strides = int(block['stride'])\n",
    "        \n",
    "# not working in keras\n",
    "#         if padding:\n",
    "#             pad = (kernel_size - 1) // 2\n",
    "#         else:\n",
    "#             pad = 0\n",
    "        \n",
    "        # create the conv layer\n",
    "        module = Conv2D(filters, (kerel_size, kerel_size), strides=(strides, strides), use_bias=bais)(module)\n",
    "        \n",
    "        if batch_normalize:\n",
    "            module = BatchNormalization()(module)\n",
    "        \n",
    "        if activation == 'leaky':\n",
    "            module = LeakyReLU(0.1)(module)\n",
    "            \n",
    "        if index < 1:\n",
    "            module = MaxPooling2D(pool_size=(2, 2))(module)\n",
    "            \n",
    "    elif block['type'] == 'upsample':\n",
    "        stride = int(block['stride'])\n",
    "        module = UpSampling2D(size=(stride, stride), interpolation='bilinear')(module)\n",
    "\n",
    "    ### Routs and shortcuts    \n",
    "    elif block['type'] == 'route': # we need to connect these in the right way\n",
    "        layers = block['layers'].split(',')\n",
    "        start = int(layers[0])\n",
    "        \n",
    "        try:\n",
    "           end = int(blcok['layers'][1]) \n",
    "        except: # if there is no end\n",
    "            end = 0\n",
    "        \n",
    "        if start > 0:\n",
    "            start = start - index\n",
    "        if end > 0:\n",
    "            end = end - index\n",
    "        \n",
    "#         from IPython.core.debugger import Tracer; Tracer()()\n",
    "        \n",
    "        print('start: %d, end: %d, all_modules: [%s]' % (start, end, '\\n'.join(map(str, all_modules[index + start - 1: index + end]))))\n",
    "    \n",
    "        l1 = all_modules[index + start]\n",
    "        l2 = all_modules[index + end]\n",
    "        \n",
    "        if l1.shape[1] == l2.shape[1]: # hack to make sure tensors fit\n",
    "            module = concatenate([l1, l2])\n",
    "    \n",
    "    elif block['type'] == 'shortcut':\n",
    "        f = int(block['from'])\n",
    "        module = all_modules[index + f] # this is not great, but will be okay for now\n",
    "        \n",
    "#         module = InputLayer(all_modules[index + f].shape)([module, all_modules[index + f]])\n",
    "        \n",
    "#         from IPython.core.debugger import Tracer; Tracer()()\n",
    "#         shortcut = all_modules[index + f]\n",
    "#         module = concatenate([shortcut, module])\n",
    "\n",
    "    elif block['type'] == 'yolo': # this needs to also be connected to the network\n",
    "        mask = block['mask'].split(',')\n",
    "        mask = [int(x) for x in mask] # convert to ints\n",
    "        \n",
    "        anchors = block['anchors'].split(',')\n",
    "        anchors = [int(a) for a in anchors]\n",
    "        anchors = [(anchors[i], anchors[i + 1]) for i in range(0, len(anchors), 2)] # break anchors into pairs\n",
    "        anchors = [anchors[i] for i in mask]\n",
    "    \n",
    "    all_modules += [module]\n",
    "\n",
    "all_modules"
   ]
  },
  {
   "cell_type": "code",
   "execution_count": null,
   "metadata": {},
   "outputs": [],
   "source": []
  }
 ],
 "metadata": {
  "kernelspec": {
   "display_name": "Python 3",
   "language": "python",
   "name": "python3"
  },
  "language_info": {
   "codemirror_mode": {
    "name": "ipython",
    "version": 3
   },
   "file_extension": ".py",
   "mimetype": "text/x-python",
   "name": "python",
   "nbconvert_exporter": "python",
   "pygments_lexer": "ipython3",
   "version": "3.6.5"
  }
 },
 "nbformat": 4,
 "nbformat_minor": 2
}
