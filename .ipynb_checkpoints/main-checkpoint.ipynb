{
 "cells": [
  {
   "cell_type": "markdown",
   "metadata": {},
   "source": [
    "### Imports"
   ]
  },
  {
   "cell_type": "code",
   "execution_count": 51,
   "metadata": {
    "ExecuteTime": {
     "end_time": "2018-12-19T05:31:01.828424Z",
     "start_time": "2018-12-19T05:31:01.824849Z"
    }
   },
   "outputs": [],
   "source": [
    "import numpy as np\n",
    "\n",
    "from keras.models import Sequential\n",
    "from keras.layers import Conv2D, LeakyReLU, UpSampling2D, InputLayer\n",
    "from keras.layers.normalization import BatchNormalization"
   ]
  },
  {
   "cell_type": "markdown",
   "metadata": {},
   "source": [
    "# Parsing the config\n",
    "\n",
    "The network config is in `yolov3.cfg`"
   ]
  },
  {
   "cell_type": "code",
   "execution_count": 56,
   "metadata": {
    "ExecuteTime": {
     "end_time": "2018-12-19T05:32:17.963569Z",
     "start_time": "2018-12-19T05:32:17.955822Z"
    }
   },
   "outputs": [],
   "source": [
    "def parse_config(cfg_path, verbose=False):\n",
    "    file = open(cfg_path, 'r')\n",
    "    lines = file.readlines()\n",
    "        \n",
    "    # get rid of comments and blank lines and white space\n",
    "    lines = [x for x in lines if len(x) > 1]\n",
    "    lines = [x for x in lines if x[0] != '#']\n",
    "    lines = [x.rstrip().lstrip() for x in lines]\n",
    "\n",
    "    block = {}\n",
    "    blocks = []\n",
    "    \n",
    "    for line in lines:\n",
    "        if verbose: print('valuating line: %s' % line)\n",
    "        \n",
    "        if line[0] == '[': # new block start\n",
    "            if len(block) != 0: # if the block inst empty (has data) then reset it\n",
    "                blocks.append(block)\n",
    "                block = {}\n",
    "                \n",
    "            block['type'] = line[1:-1]\n",
    "        else:\n",
    "            key, value = line.split('=')\n",
    "            key, value = key.rstrip(), value.lstrip()\n",
    "            block[key] = value\n",
    "\n",
    "    return blocks"
   ]
  },
  {
   "cell_type": "code",
   "execution_count": 57,
   "metadata": {
    "ExecuteTime": {
     "end_time": "2018-12-19T05:32:19.075403Z",
     "start_time": "2018-12-19T05:32:19.068306Z"
    }
   },
   "outputs": [],
   "source": [
    "blocks = parse_config('yolov3.cfg')"
   ]
  },
  {
   "cell_type": "markdown",
   "metadata": {},
   "source": [
    "# The model\n",
    "\n",
    "(add specific info about the model)\n",
    "\n",
    "### Questions:\n",
    "1. Why is padding important in a convolutional layer\n",
    "2. What is `BatchNormalization` and why is it important\n",
    "3. What does `bilinear` mean?"
   ]
  },
  {
   "cell_type": "code",
   "execution_count": 62,
   "metadata": {
    "ExecuteTime": {
     "end_time": "2018-12-19T05:48:47.051393Z",
     "start_time": "2018-12-19T05:48:47.023063Z"
    }
   },
   "outputs": [
    {
     "ename": "IndexError",
     "evalue": "list index out of range",
     "output_type": "error",
     "traceback": [
      "\u001b[0;31m---------------------------------------------------------------------------\u001b[0m",
      "\u001b[0;31mIndexError\u001b[0m                                Traceback (most recent call last)",
      "\u001b[0;32m<ipython-input-62-3e7e64e0b438>\u001b[0m in \u001b[0;36m<module>\u001b[0;34m\u001b[0m\n\u001b[1;32m      5\u001b[0m \u001b[0;34m\u001b[0m\u001b[0m\n\u001b[1;32m      6\u001b[0m \u001b[0;32mfor\u001b[0m \u001b[0mindex\u001b[0m\u001b[0;34m,\u001b[0m \u001b[0mblock\u001b[0m \u001b[0;32min\u001b[0m \u001b[0menumerate\u001b[0m\u001b[0;34m(\u001b[0m\u001b[0mblocks\u001b[0m\u001b[0;34m[\u001b[0m\u001b[0;36m1\u001b[0m\u001b[0;34m:\u001b[0m\u001b[0;34m]\u001b[0m\u001b[0;34m)\u001b[0m\u001b[0;34m:\u001b[0m \u001b[0;31m# block 0 specifies network info\u001b[0m\u001b[0;34m\u001b[0m\u001b[0m\n\u001b[0;32m----> 7\u001b[0;31m     \u001b[0mmodule\u001b[0m \u001b[0;34m=\u001b[0m \u001b[0mmain_modle\u001b[0m\u001b[0;34m.\u001b[0m\u001b[0mlayers\u001b[0m\u001b[0;34m[\u001b[0m\u001b[0;34m-\u001b[0m\u001b[0;36m1\u001b[0m\u001b[0;34m]\u001b[0m\u001b[0;34m\u001b[0m\u001b[0m\n\u001b[0m\u001b[1;32m      8\u001b[0m     \u001b[0mprint\u001b[0m\u001b[0;34m(\u001b[0m\u001b[0;34m'%s, index: %i/%i'\u001b[0m \u001b[0;34m%\u001b[0m \u001b[0;34m(\u001b[0m\u001b[0mblock\u001b[0m\u001b[0;34m[\u001b[0m\u001b[0;34m'type'\u001b[0m\u001b[0;34m]\u001b[0m\u001b[0;34m,\u001b[0m \u001b[0mindex\u001b[0m\u001b[0;34m,\u001b[0m \u001b[0mlen\u001b[0m\u001b[0;34m(\u001b[0m\u001b[0mblocks\u001b[0m\u001b[0;34m)\u001b[0m\u001b[0;34m)\u001b[0m\u001b[0;34m)\u001b[0m\u001b[0;34m\u001b[0m\u001b[0m\n\u001b[1;32m      9\u001b[0m \u001b[0;34m\u001b[0m\u001b[0m\n",
      "\u001b[0;31mIndexError\u001b[0m: list index out of range"
     ]
    }
   ],
   "source": [
    "main_modle = Sequential()\n",
    "main_modle.add(InputLayer((608, 608, 3)))\n",
    "\n",
    "all_modules = []\n",
    "\n",
    "for index, block in enumerate(blocks[1:]): # block 0 specifies network info\n",
    "    module = main_modle.layers[-1]\n",
    "    print('%s, index: %i/%i' % (block['type'], index, len(blocks)))\n",
    "    \n",
    "    ### Conv(ish) layers\n",
    "    if block['type'] == 'convolutional':\n",
    "        # layer config\n",
    "        activation = block['activation']\n",
    "        \n",
    "        bais = False\n",
    "        try:\n",
    "            batch_normalize = int(block['batch_normalize'])\n",
    "        except:\n",
    "            batch_normalize = 0\n",
    "            bais = True\n",
    "            \n",
    "        filters = int(block['filters'])\n",
    "        padding = int(block['pad'])\n",
    "        kerel_size = int(block['size'])\n",
    "        strides = int(block['stride'])\n",
    "        \n",
    "# not working in keras\n",
    "#         if padding:\n",
    "#             pad = (kernel_size - 1) // 2\n",
    "#         else:\n",
    "#             pad = 0\n",
    "        \n",
    "        # create the conv layer\n",
    "        Conv2D(filters, kerel_size, strides=strides, use_bias=bais)(module)\n",
    "        \n",
    "        if batch_normalize:\n",
    "            module.add(BatchNormalization())\n",
    "        \n",
    "        if activation == 'leaky':\n",
    "            module.add(LeakyReLU(0.1))\n",
    "           \n",
    "    elif block['type'] == 'upsample':\n",
    "        stride = int(block['stride'])\n",
    "        module.add(UpSampling2D(interpolation='bilinear'))\n",
    "\n",
    "    ### Routs and shortcuts    \n",
    "    elif block['type'] == 'route': # we need to connect these in the right way\n",
    "        layers = block['layers'].split(',')\n",
    "        start = int(layers[0])\n",
    "        \n",
    "        try:\n",
    "           end = int(blcok['layers'][1]) \n",
    "        except: # if there is no end\n",
    "            end = 0\n",
    "        \n",
    "        if start > 0:\n",
    "            start = start - index\n",
    "        if end > 0:\n",
    "            end = end - index\n",
    "    \n",
    "#     elif block['type'] == 'shortcut'\n",
    "\n",
    "    elif block['type'] == 'yolo': # this needs to also be connected to the network\n",
    "        mask = block['mask'].split(',')\n",
    "        mask = [int(x) for x in mask] # convert to ints\n",
    "        \n",
    "        anchors = block['anchors'].split(',')\n",
    "        anchors = [int(a) for a in anchors]\n",
    "        anchors = [(anchors[i], anchors[i + 1]) for i in range(0, len(anchors), 2)] # break anchors into pairs\n",
    "        anchors = [anchors[i] for i in mask]\n",
    "    \n",
    "    main_modle.add(module)\n",
    "    all_modules += [module]"
   ]
  },
  {
   "cell_type": "code",
   "execution_count": null,
   "metadata": {
    "ExecuteTime": {
     "end_time": "2018-12-19T05:31:42.293913Z",
     "start_time": "2018-12-19T05:31:33.164Z"
    }
   },
   "outputs": [],
   "source": [
    "main_modle.summary()\n",
    "\n",
    "for m in all_modules:\n",
    "    m.summary()"
   ]
  },
  {
   "cell_type": "code",
   "execution_count": null,
   "metadata": {},
   "outputs": [],
   "source": []
  }
 ],
 "metadata": {
  "kernelspec": {
   "display_name": "Python 3",
   "language": "python",
   "name": "python3"
  },
  "language_info": {
   "codemirror_mode": {
    "name": "ipython",
    "version": 3
   },
   "file_extension": ".py",
   "mimetype": "text/x-python",
   "name": "python",
   "nbconvert_exporter": "python",
   "pygments_lexer": "ipython3",
   "version": "3.6.5"
  }
 },
 "nbformat": 4,
 "nbformat_minor": 2
}
