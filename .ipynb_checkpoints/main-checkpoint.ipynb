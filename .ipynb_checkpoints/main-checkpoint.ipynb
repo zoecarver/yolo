{
 "cells": [
  {
   "cell_type": "markdown",
   "metadata": {},
   "source": [
    "### Imports"
   ]
  },
  {
   "cell_type": "code",
   "execution_count": 1,
   "metadata": {
    "ExecuteTime": {
     "end_time": "2018-12-28T06:32:24.416262Z",
     "start_time": "2018-12-28T06:32:24.384180Z"
    }
   },
   "outputs": [],
   "source": [
    "%load_ext autoreload\n",
    "%autoreload 2"
   ]
  },
  {
   "cell_type": "code",
   "execution_count": 2,
   "metadata": {
    "ExecuteTime": {
     "end_time": "2018-12-28T06:32:34.549622Z",
     "start_time": "2018-12-28T06:32:24.971203Z"
    }
   },
   "outputs": [
    {
     "name": "stderr",
     "output_type": "stream",
     "text": [
      "Using TensorFlow backend.\n"
     ]
    }
   ],
   "source": [
    "import numpy as np\n",
    "\n",
    "from keras.models import Sequential, Model, load_model\n",
    "from keras.layers import Conv2D, LeakyReLU, UpSampling2D, InputLayer, Concatenate, Input, merge, concatenate, Lambda, Reshape, MaxPooling2D\n",
    "from keras.layers.normalization import BatchNormalization\n",
    "from keras.utils import plot_model\n",
    "\n",
    "import tensorflow as tf\n",
    "\n",
    "import cv2\n",
    "\n",
    "import matplotlib.pyplot as plt\n",
    "\n",
    "from random import shuffle\n",
    "from time import time\n",
    "\n",
    "from loss import custom_loss\n",
    "from data_processing import get_data, foo"
   ]
  },
  {
   "cell_type": "code",
   "execution_count": 3,
   "metadata": {
    "ExecuteTime": {
     "end_time": "2018-12-28T06:32:34.598600Z",
     "start_time": "2018-12-28T06:32:34.552306Z"
    }
   },
   "outputs": [
    {
     "data": {
      "text/plain": [
       "12"
      ]
     },
     "execution_count": 3,
     "metadata": {},
     "output_type": "execute_result"
    }
   ],
   "source": [
    "foo() # test autoreloading"
   ]
  },
  {
   "cell_type": "markdown",
   "metadata": {},
   "source": [
    "# Parsing the config\n",
    "\n",
    "The network config is in `yolov3.cfg`"
   ]
  },
  {
   "cell_type": "code",
   "execution_count": 4,
   "metadata": {
    "ExecuteTime": {
     "end_time": "2018-12-28T06:32:34.647935Z",
     "start_time": "2018-12-28T06:32:34.600741Z"
    }
   },
   "outputs": [],
   "source": [
    "def parse_config(cfg_path, verbose=False):\n",
    "    file = open(cfg_path, 'r')\n",
    "    lines = file.readlines()\n",
    "        \n",
    "    # get rid of comments and blank lines and white space\n",
    "    lines = [x for x in lines if len(x) > 1]\n",
    "    lines = [x for x in lines if x[0] != '#']\n",
    "    lines = [x.rstrip().lstrip() for x in lines]\n",
    "\n",
    "    block = {}\n",
    "    blocks = []\n",
    "    \n",
    "    for line in lines:\n",
    "        if verbose: print('valuating line: %s' % line)\n",
    "        \n",
    "        if line[0] == '[': # new block start\n",
    "            if len(block) != 0: # if the block inst empty (has data) then reset it\n",
    "                blocks.append(block)\n",
    "                block = {}\n",
    "                \n",
    "            block['type'] = line[1:-1]\n",
    "        else:\n",
    "            key, value = line.split('=')\n",
    "            key, value = key.rstrip(), value.lstrip()\n",
    "            block[key] = value\n",
    "\n",
    "    blocks += [block]\n",
    "    return blocks"
   ]
  },
  {
   "cell_type": "code",
   "execution_count": 5,
   "metadata": {
    "ExecuteTime": {
     "end_time": "2018-12-28T06:32:34.700528Z",
     "start_time": "2018-12-28T06:32:34.651357Z"
    }
   },
   "outputs": [],
   "source": [
    "blocks = parse_config('custom_yolo.cfg')\n",
    "\n",
    "LABELS = ['blood cell'] # ['person', 'bicycle', 'car', 'motorbike', 'aeroplane', 'bus', 'train', 'truck', 'boat', 'traffic light', 'fire hydrant', 'stop sign', 'parking meter', 'bench', 'bird', 'cat', 'dog', 'horse', 'sheep', 'cow', 'elephant', 'bear', 'zebra', 'giraffe', 'backpack', 'umbrella', 'handbag', 'tie', 'suitcase', 'frisbee', 'skis', 'snowboard', 'sports ball', 'kite', 'baseball bat', 'baseball glove', 'skateboard', 'surfboard', 'tennis racket', 'bottle', 'wine glass', 'cup', 'fork', 'knife', 'spoon', 'bowl', 'banana', 'apple', 'sandwich', 'orange', 'broccoli', 'carrot', 'hot dog', 'pizza', 'donut', 'cake', 'chair', 'sofa', 'pottedplant', 'bed', 'diningtable', 'toilet', 'tvmonitor', 'laptop', 'mouse', 'remote', 'keyboard', 'cell phone', 'microwave', 'oven', 'toaster', 'sink', 'refrigerator', 'book', 'clock', 'vase', 'scissors', 'teddy bear', 'hair drier', 'toothbrush']\n",
    "\n",
    "IMAGE_H, IMAGE_W = 416, 416\n",
    "GRID_H,  GRID_W  = 13 , 13\n",
    "BOX              = 5\n",
    "CLASS            = len(LABELS)\n",
    "CLASS_WEIGHTS    = np.ones(CLASS, dtype='float32')\n",
    "OBJ_THRESHOLD    = 0.3#0.5\n",
    "NMS_THRESHOLD    = 0.3#0.45\n",
    "ANCHORS          = [0.57273, 0.677385, 1.87446, 2.06253, 3.33843, 5.47434, 7.88282, 3.52778, 9.77052, 9.16828]\n",
    "\n",
    "NO_OBJECT_SCALE  = 1.0\n",
    "OBJECT_SCALE     = 5.0\n",
    "COORD_SCALE      = 1.0\n",
    "CLASS_SCALE      = 1.0\n",
    "\n",
    "BATCH_SIZE       = 16\n",
    "WARM_UP_BATCHES  = 0\n",
    "TRUE_BOX_BUFFER  = 10"
   ]
  },
  {
   "cell_type": "markdown",
   "metadata": {},
   "source": [
    "### Fix shortcut issue\n",
    "this is a quick fix for the shortcut issue I was running into but I want to figure out why and how this works so I can create a better implementation."
   ]
  },
  {
   "cell_type": "code",
   "execution_count": 6,
   "metadata": {
    "ExecuteTime": {
     "end_time": "2018-12-28T06:32:34.745651Z",
     "start_time": "2018-12-28T06:32:34.703844Z"
    }
   },
   "outputs": [],
   "source": [
    "def space_to_depth_x2(x):\n",
    "    return tf.space_to_depth(x, block_size=2)"
   ]
  },
  {
   "cell_type": "markdown",
   "metadata": {},
   "source": [
    "# The model\n",
    "\n",
    "(add specific info about the model)\n",
    "\n",
    "### Questions:\n",
    "1. Why is padding important in a convolutional layer\n",
    "2. What is `BatchNormalization` and why is it important\n",
    "3. What does `bilinear` mean?\n",
    "4. What is `B X C X H X W` and how is it difforent than other formats\n",
    "5. What is the difforence between route and shortcut and how are they implemented?\n",
    "    * see the degradation problem, and an [explaination here](https://www.quora.com/What-are-shortcut-connections-how-do-they-work-and-what-is-their-role-in-the-paper-Deep-Residual-Learning-for-Image-Recognition).\n",
    "6. What does `space_to_depth_x2` do?\n",
    "7. What is `true_boxes` and why is it important?"
   ]
  },
  {
   "cell_type": "code",
   "execution_count": 7,
   "metadata": {
    "ExecuteTime": {
     "end_time": "2018-12-28T06:32:37.215899Z",
     "start_time": "2018-12-28T06:32:34.747951Z"
    },
    "scrolled": true
   },
   "outputs": [
    {
     "name": "stdout",
     "output_type": "stream",
     "text": [
      "(0/31) processing: convolutional\n",
      "(1/31) processing: maxpooling\n",
      "(2/31) processing: convolutional\n",
      "(3/31) processing: maxpooling\n",
      "(4/31) processing: convolutional\n",
      "(5/31) processing: convolutional\n",
      "(6/31) processing: convolutional\n",
      "(7/31) processing: maxpooling\n",
      "(8/31) processing: convolutional\n",
      "(9/31) processing: convolutional\n",
      "(10/31) processing: convolutional\n",
      "(11/31) processing: maxpooling\n",
      "(12/31) processing: convolutional\n",
      "(13/31) processing: convolutional\n",
      "(14/31) processing: convolutional\n",
      "(15/31) processing: convolutional\n",
      "(16/31) processing: convolutional\n",
      "(17/31) processing: skip_connection\n",
      "(18/31) processing: maxpooling\n",
      "(19/31) processing: convolutional\n",
      "(20/31) processing: convolutional\n",
      "(21/31) processing: convolutional\n",
      "(22/31) processing: convolutional\n",
      "(23/31) processing: convolutional\n",
      "(24/31) processing: convolutional\n",
      "(25/31) processing: convolutional\n",
      "(26/31) processing: skip_connection\n",
      "(27/31) processing: convolutional\n",
      "(28/31) processing: space_to_depth\n",
      "(29/31) processing: concatenate\n",
      "(30/31) processing: convolutional\n",
      "(31/31) processing: net\n",
      "____________________________________________________________________________________________________\n",
      "Layer (type)                     Output Shape          Param #     Connected to                     \n",
      "====================================================================================================\n",
      "input_2 (InputLayer)             (None, 416, 416, 3)   0                                            \n",
      "____________________________________________________________________________________________________\n",
      "conv_0 (Conv2D)                  (None, 416, 416, 32)  864         input_2[0][0]                    \n",
      "____________________________________________________________________________________________________\n",
      "batch_norm_0 (BatchNormalization (None, 416, 416, 32)  128         conv_0[0][0]                     \n",
      "____________________________________________________________________________________________________\n",
      "leaky_re_lu_1 (LeakyReLU)        (None, 416, 416, 32)  0           batch_norm_0[0][0]               \n",
      "____________________________________________________________________________________________________\n",
      "max_pooling2d_1 (MaxPooling2D)   (None, 208, 208, 32)  0           leaky_re_lu_1[0][0]              \n",
      "____________________________________________________________________________________________________\n",
      "conv_1 (Conv2D)                  (None, 208, 208, 64)  18432       max_pooling2d_1[0][0]            \n",
      "____________________________________________________________________________________________________\n",
      "batch_norm_1 (BatchNormalization (None, 208, 208, 64)  256         conv_1[0][0]                     \n",
      "____________________________________________________________________________________________________\n",
      "leaky_re_lu_2 (LeakyReLU)        (None, 208, 208, 64)  0           batch_norm_1[0][0]               \n",
      "____________________________________________________________________________________________________\n",
      "max_pooling2d_2 (MaxPooling2D)   (None, 104, 104, 64)  0           leaky_re_lu_2[0][0]              \n",
      "____________________________________________________________________________________________________\n",
      "conv_2 (Conv2D)                  (None, 104, 104, 128) 73728       max_pooling2d_2[0][0]            \n",
      "____________________________________________________________________________________________________\n",
      "batch_norm_2 (BatchNormalization (None, 104, 104, 128) 512         conv_2[0][0]                     \n",
      "____________________________________________________________________________________________________\n",
      "leaky_re_lu_3 (LeakyReLU)        (None, 104, 104, 128) 0           batch_norm_2[0][0]               \n",
      "____________________________________________________________________________________________________\n",
      "conv_3 (Conv2D)                  (None, 104, 104, 64)  8192        leaky_re_lu_3[0][0]              \n",
      "____________________________________________________________________________________________________\n",
      "batch_norm_3 (BatchNormalization (None, 104, 104, 64)  256         conv_3[0][0]                     \n",
      "____________________________________________________________________________________________________\n",
      "leaky_re_lu_4 (LeakyReLU)        (None, 104, 104, 64)  0           batch_norm_3[0][0]               \n",
      "____________________________________________________________________________________________________\n",
      "conv_4 (Conv2D)                  (None, 104, 104, 128) 73728       leaky_re_lu_4[0][0]              \n",
      "____________________________________________________________________________________________________\n",
      "batch_norm_4 (BatchNormalization (None, 104, 104, 128) 512         conv_4[0][0]                     \n",
      "____________________________________________________________________________________________________\n",
      "leaky_re_lu_5 (LeakyReLU)        (None, 104, 104, 128) 0           batch_norm_4[0][0]               \n",
      "____________________________________________________________________________________________________\n",
      "max_pooling2d_3 (MaxPooling2D)   (None, 52, 52, 128)   0           leaky_re_lu_5[0][0]              \n",
      "____________________________________________________________________________________________________\n",
      "conv_5 (Conv2D)                  (None, 52, 52, 256)   294912      max_pooling2d_3[0][0]            \n",
      "____________________________________________________________________________________________________\n",
      "batch_norm_5 (BatchNormalization (None, 52, 52, 256)   1024        conv_5[0][0]                     \n",
      "____________________________________________________________________________________________________\n",
      "leaky_re_lu_6 (LeakyReLU)        (None, 52, 52, 256)   0           batch_norm_5[0][0]               \n",
      "____________________________________________________________________________________________________\n",
      "conv_6 (Conv2D)                  (None, 52, 52, 128)   32768       leaky_re_lu_6[0][0]              \n",
      "____________________________________________________________________________________________________\n",
      "batch_norm_6 (BatchNormalization (None, 52, 52, 128)   512         conv_6[0][0]                     \n",
      "____________________________________________________________________________________________________\n",
      "leaky_re_lu_7 (LeakyReLU)        (None, 52, 52, 128)   0           batch_norm_6[0][0]               \n",
      "____________________________________________________________________________________________________\n",
      "conv_7 (Conv2D)                  (None, 52, 52, 256)   294912      leaky_re_lu_7[0][0]              \n",
      "____________________________________________________________________________________________________\n",
      "batch_norm_7 (BatchNormalization (None, 52, 52, 256)   1024        conv_7[0][0]                     \n",
      "____________________________________________________________________________________________________\n",
      "leaky_re_lu_8 (LeakyReLU)        (None, 52, 52, 256)   0           batch_norm_7[0][0]               \n",
      "____________________________________________________________________________________________________\n",
      "max_pooling2d_4 (MaxPooling2D)   (None, 26, 26, 256)   0           leaky_re_lu_8[0][0]              \n",
      "____________________________________________________________________________________________________\n",
      "conv_8 (Conv2D)                  (None, 26, 26, 512)   1179648     max_pooling2d_4[0][0]            \n",
      "____________________________________________________________________________________________________\n",
      "batch_norm_8 (BatchNormalization (None, 26, 26, 512)   2048        conv_8[0][0]                     \n",
      "____________________________________________________________________________________________________\n",
      "leaky_re_lu_9 (LeakyReLU)        (None, 26, 26, 512)   0           batch_norm_8[0][0]               \n",
      "____________________________________________________________________________________________________\n",
      "conv_9 (Conv2D)                  (None, 26, 26, 256)   131072      leaky_re_lu_9[0][0]              \n",
      "____________________________________________________________________________________________________\n",
      "batch_norm_9 (BatchNormalization (None, 26, 26, 256)   1024        conv_9[0][0]                     \n",
      "____________________________________________________________________________________________________\n",
      "leaky_re_lu_10 (LeakyReLU)       (None, 26, 26, 256)   0           batch_norm_9[0][0]               \n",
      "____________________________________________________________________________________________________\n",
      "conv_10 (Conv2D)                 (None, 26, 26, 512)   1179648     leaky_re_lu_10[0][0]             \n",
      "____________________________________________________________________________________________________\n",
      "batch_norm_10 (BatchNormalizatio (None, 26, 26, 512)   2048        conv_10[0][0]                    \n",
      "____________________________________________________________________________________________________\n",
      "leaky_re_lu_11 (LeakyReLU)       (None, 26, 26, 512)   0           batch_norm_10[0][0]              \n",
      "____________________________________________________________________________________________________\n",
      "conv_11 (Conv2D)                 (None, 26, 26, 256)   131072      leaky_re_lu_11[0][0]             \n",
      "____________________________________________________________________________________________________\n",
      "batch_norm_11 (BatchNormalizatio (None, 26, 26, 256)   1024        conv_11[0][0]                    \n",
      "____________________________________________________________________________________________________\n",
      "leaky_re_lu_12 (LeakyReLU)       (None, 26, 26, 256)   0           batch_norm_11[0][0]              \n",
      "____________________________________________________________________________________________________\n",
      "conv_12 (Conv2D)                 (None, 26, 26, 512)   1179648     leaky_re_lu_12[0][0]             \n",
      "____________________________________________________________________________________________________\n",
      "batch_norm_12 (BatchNormalizatio (None, 26, 26, 512)   2048        conv_12[0][0]                    \n",
      "____________________________________________________________________________________________________\n",
      "leaky_re_lu_13 (LeakyReLU)       (None, 26, 26, 512)   0           batch_norm_12[0][0]              \n",
      "____________________________________________________________________________________________________\n",
      "max_pooling2d_5 (MaxPooling2D)   (None, 13, 13, 512)   0           leaky_re_lu_13[0][0]             \n",
      "____________________________________________________________________________________________________\n",
      "conv_13 (Conv2D)                 (None, 13, 13, 1024)  4718592     max_pooling2d_5[0][0]            \n",
      "____________________________________________________________________________________________________\n",
      "batch_norm_13 (BatchNormalizatio (None, 13, 13, 1024)  4096        conv_13[0][0]                    \n",
      "____________________________________________________________________________________________________\n",
      "leaky_re_lu_14 (LeakyReLU)       (None, 13, 13, 1024)  0           batch_norm_13[0][0]              \n",
      "____________________________________________________________________________________________________\n",
      "conv_14 (Conv2D)                 (None, 13, 13, 512)   524288      leaky_re_lu_14[0][0]             \n",
      "____________________________________________________________________________________________________\n",
      "batch_norm_14 (BatchNormalizatio (None, 13, 13, 512)   2048        conv_14[0][0]                    \n",
      "____________________________________________________________________________________________________\n",
      "leaky_re_lu_15 (LeakyReLU)       (None, 13, 13, 512)   0           batch_norm_14[0][0]              \n",
      "____________________________________________________________________________________________________\n",
      "conv_15 (Conv2D)                 (None, 13, 13, 1024)  4718592     leaky_re_lu_15[0][0]             \n",
      "____________________________________________________________________________________________________\n",
      "batch_norm_15 (BatchNormalizatio (None, 13, 13, 1024)  4096        conv_15[0][0]                    \n",
      "____________________________________________________________________________________________________\n",
      "leaky_re_lu_16 (LeakyReLU)       (None, 13, 13, 1024)  0           batch_norm_15[0][0]              \n",
      "____________________________________________________________________________________________________\n",
      "conv_16 (Conv2D)                 (None, 13, 13, 512)   524288      leaky_re_lu_16[0][0]             \n",
      "____________________________________________________________________________________________________\n",
      "batch_norm_16 (BatchNormalizatio (None, 13, 13, 512)   2048        conv_16[0][0]                    \n",
      "____________________________________________________________________________________________________\n",
      "leaky_re_lu_17 (LeakyReLU)       (None, 13, 13, 512)   0           batch_norm_16[0][0]              \n",
      "____________________________________________________________________________________________________\n",
      "conv_17 (Conv2D)                 (None, 13, 13, 1024)  4718592     leaky_re_lu_17[0][0]             \n",
      "____________________________________________________________________________________________________\n",
      "batch_norm_17 (BatchNormalizatio (None, 13, 13, 1024)  4096        conv_17[0][0]                    \n",
      "____________________________________________________________________________________________________\n",
      "leaky_re_lu_18 (LeakyReLU)       (None, 13, 13, 1024)  0           batch_norm_17[0][0]              \n",
      "____________________________________________________________________________________________________\n",
      "conv_18 (Conv2D)                 (None, 13, 13, 1024)  9437184     leaky_re_lu_18[0][0]             \n",
      "____________________________________________________________________________________________________\n",
      "batch_norm_18 (BatchNormalizatio (None, 13, 13, 1024)  4096        conv_18[0][0]                    \n",
      "____________________________________________________________________________________________________\n",
      "conv_20 (Conv2D)                 (None, 26, 26, 64)    32768       leaky_re_lu_13[0][0]             \n",
      "____________________________________________________________________________________________________\n",
      "leaky_re_lu_19 (LeakyReLU)       (None, 13, 13, 1024)  0           batch_norm_18[0][0]              \n",
      "____________________________________________________________________________________________________\n",
      "batch_norm_20 (BatchNormalizatio (None, 26, 26, 64)    256         conv_20[0][0]                    \n",
      "____________________________________________________________________________________________________\n",
      "conv_19 (Conv2D)                 (None, 13, 13, 1024)  9437184     leaky_re_lu_19[0][0]             \n",
      "____________________________________________________________________________________________________\n",
      "leaky_re_lu_21 (LeakyReLU)       (None, 26, 26, 64)    0           batch_norm_20[0][0]              \n",
      "____________________________________________________________________________________________________\n",
      "batch_norm_19 (BatchNormalizatio (None, 13, 13, 1024)  4096        conv_19[0][0]                    \n",
      "____________________________________________________________________________________________________\n",
      "lambda_1 (Lambda)                (None, 13, 13, 256)   0           leaky_re_lu_21[0][0]             \n",
      "____________________________________________________________________________________________________\n",
      "leaky_re_lu_20 (LeakyReLU)       (None, 13, 13, 1024)  0           batch_norm_19[0][0]              \n",
      "____________________________________________________________________________________________________\n",
      "concatenate_1 (Concatenate)      (None, 13, 13, 1280)  0           lambda_1[0][0]                   \n",
      "                                                                   leaky_re_lu_20[0][0]             \n",
      "____________________________________________________________________________________________________\n",
      "conv_21 (Conv2D)                 (None, 13, 13, 1024)  11796480    concatenate_1[0][0]              \n",
      "____________________________________________________________________________________________________\n",
      "batch_norm_21 (BatchNormalizatio (None, 13, 13, 1024)  4096        conv_21[0][0]                    \n",
      "____________________________________________________________________________________________________\n",
      "leaky_re_lu_22 (LeakyReLU)       (None, 13, 13, 1024)  0           batch_norm_21[0][0]              \n",
      "____________________________________________________________________________________________________\n",
      "conv_22 (Conv2D)                 (None, 13, 13, 30)    30750       leaky_re_lu_22[0][0]             \n",
      "====================================================================================================\n",
      "Total params: 50,578,686\n",
      "Trainable params: 50,558,014\n",
      "Non-trainable params: 20,672\n",
      "____________________________________________________________________________________________________\n"
     ]
    }
   ],
   "source": [
    "input_layer = blocks[0]\n",
    "input_shape = (int(input_layer['shape']), \n",
    "    int(input_layer['shape']), \n",
    "    int(input_layer['channels']))\n",
    "\n",
    "true_boxes = Input(shape=(1, 1, 1, TRUE_BOX_BUFFER , 4))\n",
    "model_input = Input(input_shape)\n",
    "x = model_input\n",
    "\n",
    "skip_connection = None\n",
    "skip_connection_x = None\n",
    "output = None\n",
    "model = None\n",
    "\n",
    "conv_count = 0\n",
    "\n",
    "for index, block in enumerate(blocks[1:]):\n",
    "    print('(%i/%i) processing: %s' % (index, len(blocks) - 2, block['type']))\n",
    "    \n",
    "    if block['type'] == 'convolutional':        \n",
    "        filters = int(block['filters'])\n",
    "        kernel = int(block['kernel'])\n",
    "        strides = int(block['strides'])\n",
    "        \n",
    "        x = Conv2D(filters, \n",
    "                   (kernel, kernel), \n",
    "                   strides=(strides, strides), \n",
    "                   padding='same', \n",
    "                   name='conv_%i' % conv_count,\n",
    "                   use_bias=False)(x)\n",
    "        x = BatchNormalization(name='batch_norm_%i' % conv_count)(x)\n",
    "        x = LeakyReLU(alpha=0.1)(x)\n",
    "        \n",
    "        conv_count += 1\n",
    "        \n",
    "    if block['type'] == 'maxpooling':\n",
    "        pool = int(block['pool'])\n",
    "        \n",
    "        x = MaxPooling2D(pool_size=(pool, pool))(x)\n",
    "        \n",
    "    if block['type'] == 'skip_connection':\n",
    "        open_connection = int(block['open'])\n",
    "        \n",
    "        if open_connection:\n",
    "            skip_connection = x # hold current x for later\n",
    "        else:\n",
    "            skip_connection_x = x # make sure we know what this is for concat\n",
    "            x = skip_connection # set x to skip connect from earlier\n",
    "    \n",
    "    if block['type'] == 'space_to_depth':\n",
    "        x = Lambda(space_to_depth_x2)(x)\n",
    "        \n",
    "    if block['type'] == 'concatenate':\n",
    "        x = concatenate([x, skip_connection_x])\n",
    "        \n",
    "    if block['type'] == 'net':\n",
    "        x = Conv2D(BOX * (4 + 1 + CLASS), \n",
    "            (1, 1), strides=(1, 1), \n",
    "            name='conv_%i' % conv_count, \n",
    "            padding='same')(x)\n",
    "        \n",
    "        x = Model(model_input, x, name='yolo')\n",
    "        x.summary()\n",
    "        plot_model(x, to_file='doc/yolo_model.png')\n",
    "            \n",
    "        x = x(model_input)\n",
    "        output = Reshape((GRID_H, GRID_W, BOX, 4 + 1 + CLASS))(x)\n",
    "        output = Lambda(lambda a: a[0])([output, true_boxes]) # seems like `true_boxes` is just being removed here\n",
    "        \n",
    "        model = Model([model_input, true_boxes], output)"
   ]
  },
  {
   "cell_type": "code",
   "execution_count": 8,
   "metadata": {
    "ExecuteTime": {
     "end_time": "2018-12-28T06:32:37.351769Z",
     "start_time": "2018-12-28T06:32:37.218572Z"
    },
    "scrolled": false
   },
   "outputs": [
    {
     "name": "stdout",
     "output_type": "stream",
     "text": [
      "____________________________________________________________________________________________________\n",
      "Layer (type)                     Output Shape          Param #     Connected to                     \n",
      "====================================================================================================\n",
      "input_2 (InputLayer)             (None, 416, 416, 3)   0                                            \n",
      "____________________________________________________________________________________________________\n",
      "yolo (Model)                     (None, 13, 13, 30)    50578686    input_2[0][0]                    \n",
      "____________________________________________________________________________________________________\n",
      "reshape_1 (Reshape)              (None, 13, 13, 5, 6)  0           yolo[1][0]                       \n",
      "____________________________________________________________________________________________________\n",
      "input_1 (InputLayer)             (None, 1, 1, 1, 10, 4 0                                            \n",
      "____________________________________________________________________________________________________\n",
      "lambda_2 (Lambda)                (None, 13, 13, 5, 6)  0           reshape_1[0][0]                  \n",
      "                                                                   input_1[0][0]                    \n",
      "====================================================================================================\n",
      "Total params: 50,578,686\n",
      "Trainable params: 50,558,014\n",
      "Non-trainable params: 20,672\n",
      "____________________________________________________________________________________________________\n"
     ]
    }
   ],
   "source": [
    "model.summary()\n",
    "plot_model(model, to_file='doc/model.png')"
   ]
  },
  {
   "cell_type": "markdown",
   "metadata": {},
   "source": [
    "## Predictions\n",
    "Output and generating predictions\n",
    "\n",
    "### Output Tensor\n",
    "![image](https://cdn-images-1.medium.com/max/1600/1*cGfWw6lGmV1xUKRsd--JxQ.png)\n",
    "\n",
    "Each coordinate is represented like this:\n",
    "![image.png](https://blog.paperspace.com/content/images/2018/04/bbox_-2.png)\n",
    "the coordinates are the x, y in the matrix of anchors"
   ]
  },
  {
   "cell_type": "markdown",
   "metadata": {
    "ExecuteTime": {
     "end_time": "2018-12-20T18:53:18.733929Z",
     "start_time": "2018-12-20T18:53:18.729557Z"
    }
   },
   "source": [
    "The above output will need to be changed into a an array like the one in the image above\n",
    "\n",
    "### Questions\n",
    "1. what is the 3rd attribute\n",
    "2. could you use another network to decrease grid size?\n",
    "3. what is this doing? `tf.math.exp(prediction[:, :, 2:4]) * anchors`\n",
    "4. softmax vs sigmoid\n",
    "5. understand the center functions"
   ]
  },
  {
   "cell_type": "code",
   "execution_count": 9,
   "metadata": {
    "ExecuteTime": {
     "end_time": "2018-12-28T06:32:37.419892Z",
     "start_time": "2018-12-28T06:32:37.354971Z"
    }
   },
   "outputs": [],
   "source": [
    "# MARK - helper functions\n",
    "def sigmoid(x):\n",
    "    return 1. / (1. + np.exp(-x))\n",
    "\n",
    "\n",
    "def softmax(x, axis=-1, t=-100.):\n",
    "    x = x - np.max(x)\n",
    "    \n",
    "    if np.min(x) < t:\n",
    "        x = x/np.min(x)*t\n",
    "        \n",
    "    e_x = np.exp(x)\n",
    "    \n",
    "    return e_x / e_x.sum(axis, keepdims=True)\n",
    "\n",
    "\n",
    "def center_xy(x, y, grid, row, col):\n",
    "    grid_h, grid_w = grid\n",
    "    \n",
    "    x = (col + sigmoid(x)) / grid_w\n",
    "    y = (row + sigmoid(y)) / grid_h\n",
    "    \n",
    "    return x, y\n",
    "    \n",
    "    \n",
    "def center_hw(h, w, grid, count):\n",
    "    grid_h, grid_w = grid\n",
    "    \n",
    "    # get anchor position (+1 because they are in sets)\n",
    "    w = ANCHORS[2 * count + 0] * np.exp(w) / grid_w\n",
    "    h = ANCHORS[2 * count + 1] * np.exp(h) / grid_h\n",
    "\n",
    "    return h, w\n",
    "\n",
    "# MARK - main function\n",
    "\n",
    "def format_prediction(prediction, threshold=0.3):\n",
    "    \"\"\"\n",
    "    :param network_info: first block\n",
    "    \"\"\"\n",
    "    \n",
    "    h, w, count = prediction.shape[:3]\n",
    "    grid = h, w\n",
    "    \n",
    "    boxes = [] # format: xmin, xmax, ymin, ymax, objectness, classes\n",
    "    prediction[..., 4] = sigmoid(prediction[..., 4]) # normalize\n",
    "    \"\"\"\n",
    "    the next line is a little confusing, basically what it is doing is:\n",
    "        * get all boxes\n",
    "        * expand them\n",
    "        * multiply by classes\n",
    "    \"\"\"\n",
    "    prediction[..., 5:] = prediction[..., 4][..., np.newaxis] * softmax(prediction[..., 5:]) # softmax and unsqueez    \n",
    "    prediction[..., 5:] *= prediction[..., 5:] > threshold # filter classes below threashold\n",
    "    \n",
    "    for i in range(h):\n",
    "        for j in range(w):\n",
    "            for c in range(count):\n",
    "                current_prediction = prediction[i, j, c]\n",
    "                classes = current_prediction[5:]\n",
    "                \n",
    "                if np.sum(classes) != 0.: # see if there are any classes which are not 0.\n",
    "                    x, y, width, height = current_prediction[:4]\n",
    "#                     from IPython.core.debugger import Tracer; Tracer()()\n",
    "                    \n",
    "                    # x, y = center_xy(x, y, grid, i, j)\n",
    "                    # height, width = center_hw(height, width, grid, c)\n",
    "                    \n",
    "                    xmin = x-width/2\n",
    "                    xmax = x+width/2\n",
    "                    ymin = y-height/2\n",
    "                    ymax = y+height/2\n",
    "                    \n",
    "                    objectness = prediction[i, j, c, 4]\n",
    "                    boxes.append((xmin, xmax, ymin, ymax, objectness, classes))\n",
    "    return boxes\n",
    "\n",
    "# boxes = format_prediction(train_y[201] * 1., threshold=.6)"
   ]
  },
  {
   "cell_type": "code",
   "execution_count": 10,
   "metadata": {
    "ExecuteTime": {
     "end_time": "2018-12-28T06:32:37.471278Z",
     "start_time": "2018-12-28T06:32:37.422124Z"
    }
   },
   "outputs": [],
   "source": [
    "colors = [ # yeah I spent a lot of time picking colors :P\n",
    "    (244, 134, 66),\n",
    "    (66, 134, 244),\n",
    "    (216, 216, 216),\n",
    "    (0, 105, 211), \n",
    "    (0, 28, 55),\n",
    "    (51, 87, 255),\n",
    "    (218, 247, 166),\n",
    "] * CLASS\n",
    "\n",
    "def draw_boxes(image, boxes):\n",
    "    height, width = image.shape[:2]\n",
    "    height_scalar = height / IMAGE_H # get difference scalar\n",
    "    width_scalar = width / IMAGE_W\n",
    "    height_scalar *= IMAGE_H # multiply by height\n",
    "    width_scalar *= IMAGE_W\n",
    "        \n",
    "    for box in boxes:\n",
    "        xmin, xmax, ymin, ymax, objectness, classes = box\n",
    "        xmin = int(xmin * width_scalar)\n",
    "        xmax = int(xmax * width_scalar) \n",
    "        ymin = int(ymin * height_scalar) \n",
    "        ymax = int(ymax * height_scalar)\n",
    "        \n",
    "        main_class = classes.tolist().index(max(classes))\n",
    "        \n",
    "        font = cv2.FONT_HERSHEY_PLAIN\n",
    "        image = cv2.rectangle(image, (xmin, ymin), (xmax, ymax), colors[main_class], 6)\n",
    "                            \n",
    "    return image          "
   ]
  },
  {
   "cell_type": "markdown",
   "metadata": {},
   "source": [
    "# Loading Weights\n",
    "\n",
    "We want to create a class that will allow us to load the weights and read chucks of values.\n",
    "\n",
    "## Questions\n",
    "1. How are weights stored?\n",
    "    _either as pickles or similar_\n",
    "2. beta, gamma, mean, var?\n",
    "3. why is there no bias needed if there are already weights\n",
    "    * I think that maybe what the below if statement does is not check for weights but check for `use_bias` which would explain both things\n",
    "4. does this to check for previos weights or something else? `len(conv_layer.get_weights()) > 1`\n",
    "5. why are the last layer's weights randomized? \n",
    "    * I _think_ this is so that some small training will be able to get a good result\n",
    "6. what would happen if the weights were less precise (ei float16)?"
   ]
  },
  {
   "cell_type": "code",
   "execution_count": 11,
   "metadata": {
    "ExecuteTime": {
     "end_time": "2018-12-28T06:32:37.519341Z",
     "start_time": "2018-12-28T06:32:37.473473Z"
    }
   },
   "outputs": [],
   "source": [
    "class WeightReader:\n",
    "    def __init__(self, file):\n",
    "        self.weights = open(file, 'rb')\n",
    "        self.count = 0\n",
    "        self.headers = np.ndarray(\n",
    "            shape=(4,), dtype='int32', buffer=self.weights.read(16))\n",
    "        \n",
    "    def read(self, size=None):\n",
    "        if size is None:\n",
    "            return self.weights.read()\n",
    "        return self.weights.read(size)\n",
    "    \n",
    "    def read_arr(self, size, shape=None, count_inc=None):\n",
    "        if shape is None:\n",
    "            shape = (size,)\n",
    "            \n",
    "        if count_inc is None:\n",
    "            count_inc = np.prod(shape)\n",
    "        \n",
    "        self.count += count_inc\n",
    "        \n",
    "        return np.ndarray(\n",
    "            shape=shape, dtype='float32', buffer=self.read(size))"
   ]
  },
  {
   "cell_type": "code",
   "execution_count": 12,
   "metadata": {
    "ExecuteTime": {
     "end_time": "2018-12-28T06:32:43.359380Z",
     "start_time": "2018-12-28T06:32:37.521522Z"
    }
   },
   "outputs": [
    {
     "name": "stdout",
     "output_type": "stream",
     "text": [
      "remaining weights: 404875.000000\n"
     ]
    }
   ],
   "source": [
    "weight_reader = WeightReader('yolo.weights')\n",
    "\n",
    "batch_normalize = True # this would change if we used `use_bias`\n",
    "\n",
    "for index in range(conv_count + 1):\n",
    "    conv_layer = model.get_layer('yolo').get_layer('conv_%i' % index)\n",
    "    try:\n",
    "        norm_layer = model.get_layer('yolo').get_layer('batch_norm_%i' % index)\n",
    "    except: # TODO this is a hack\n",
    "        batch_normalize = False\n",
    "    \n",
    "    size = conv_layer.kernel.shape[:2]\n",
    "    \n",
    "    filters = conv_layer.filters\n",
    "    conv_bias = weight_reader.read_arr(filters * 4, shape=(filters,))\n",
    "    \n",
    "    if batch_normalize and norm_layer is not None:\n",
    "        batch_weights = weight_reader.read_arr(\n",
    "            filters * 12, shape=(3, filters))\n",
    "        \n",
    "        # this may have issues? (see https://github.com/allanzelener/YAD2K/blob/master/yad2k.py#L144)\n",
    "        batch_weight_list = [\n",
    "            batch_weights[0],  # scale gamma\n",
    "            conv_bias,  # shift beta\n",
    "            batch_weights[1],  # running mean\n",
    "            batch_weights[2]  # running var\n",
    "        ]\n",
    "        \n",
    "        norm_layer.set_weights(batch_weight_list)\n",
    "        \n",
    "    last_layer_shape = conv_layer.input_shape\n",
    "    weights_shape = (*size, last_layer_shape[-1], filters)\n",
    "    darknet_weight_shape = (filters, weights_shape[2], *size)\n",
    "    weights_size = np.product(weights_shape)\n",
    "    \n",
    "    conv_weights = weight_reader.read_arr(\n",
    "        weights_size * 4, shape=darknet_weight_shape, count_inc=weights_size)\n",
    "    \n",
    "    \"\"\"\n",
    "    darknet serialization: (out_dim, in_dim, height, width)\n",
    "    tensorflow serialization: (height, width, in_dim, out_dim)\n",
    "    \"\"\"\n",
    "    conv_weights = np.transpose(conv_weights, [2, 3, 1, 0])\n",
    "    conv_weights = [conv_weights] if batch_normalize else [\n",
    "        conv_weights, conv_bias\n",
    "    ]\n",
    "    \n",
    "    conv_layer.set_weights(conv_weights)\n",
    "\n",
    "print('remaining weights: %f' % (len(weight_reader.read()) / 4))"
   ]
  },
  {
   "cell_type": "markdown",
   "metadata": {},
   "source": [
    "# Testing output"
   ]
  },
  {
   "cell_type": "code",
   "execution_count": 13,
   "metadata": {
    "ExecuteTime": {
     "end_time": "2018-12-28T06:32:48.022632Z",
     "start_time": "2018-12-28T06:32:43.361507Z"
    }
   },
   "outputs": [
    {
     "name": "stdout",
     "output_type": "stream",
     "text": [
      "average time 0.425740 seconds\n"
     ]
    },
    {
     "data": {
      "text/plain": [
       "True"
      ]
     },
     "execution_count": 13,
     "metadata": {},
     "output_type": "execute_result"
    },
    {
     "data": {
      "image/png": "[encoded data removed]",
      "text/plain": [
       "<Figure size 432x288 with 1 Axes>"
      ]
     },
     "metadata": {
      "needs_background": "light"
     },
     "output_type": "display_data"
    }
   ],
   "source": [
    "img = cv2.imread(\"dog-cycle-car.png\")\n",
    "img_input = cv2.resize(img, (416, 416)) # resize to the input dimension\n",
    "img_input = img_input / 255\n",
    "img_input = img_input[..., ::-1]\n",
    "img_input = np.array([img_input])\n",
    "\n",
    "dummy_array = np.zeros((1, 1, 1, 1, TRUE_BOX_BUFFER, 4))\n",
    "\n",
    "times = []\n",
    "for _ in range(10):\n",
    "    start = time()\n",
    "    test_prediction = model.predict([img_input, dummy_array])\n",
    "    times += [time() - start]\n",
    "\n",
    "print('average time %f seconds' % (sum(times) / len(times)))\n",
    "\n",
    "boxes = format_prediction(test_prediction[0])\n",
    "img = draw_boxes(img, boxes)\n",
    "plt.imshow(img[..., ::-1])\n",
    "cv2.imwrite('doc/example.png',img)"
   ]
  },
  {
   "cell_type": "markdown",
   "metadata": {},
   "source": [
    "# Custom loss (loss.py)\n",
    "**TODO** write this"
   ]
  },
  {
   "cell_type": "markdown",
   "metadata": {},
   "source": [
    "# Training the network"
   ]
  },
  {
   "cell_type": "markdown",
   "metadata": {},
   "source": [
    "## Loading the data\n",
    "\n",
    "Load the images from the bloodcells dataset"
   ]
  },
  {
   "cell_type": "code",
   "execution_count": 14,
   "metadata": {
    "ExecuteTime": {
     "end_time": "2018-12-28T06:32:50.384002Z",
     "start_time": "2018-12-28T06:32:48.024882Z"
    }
   },
   "outputs": [
    {
     "name": "stdout",
     "output_type": "stream",
     "text": [
      "processing: data/annotations/BloodImage_00315.xml\n",
      "processing: data/annotations/BloodImage_00301.xml\n",
      "processing: data/annotations/BloodImage_00117.xml\n",
      "processing: data/annotations/BloodImage_00103.xml\n",
      "processing: data/annotations/BloodImage_00088.xml\n",
      "processing: data/annotations/BloodImage_00063.xml\n",
      "processing: data/annotations/BloodImage_00077.xml\n",
      "processing: data/annotations/BloodImage_00261.xml\n",
      "processing: data/annotations/BloodImage_00275.xml\n",
      "processing: data/annotations/BloodImage_00248.xml\n",
      "processing: data/annotations/BloodImage_00274.xml\n",
      "processing: data/annotations/BloodImage_00260.xml\n",
      "processing: data/annotations/BloodImage_00076.xml\n",
      "processing: data/annotations/BloodImage_00062.xml\n",
      "processing: data/annotations/BloodImage_00089.xml\n",
      "processing: data/annotations/BloodImage_00300.xml\n",
      "processing: data/annotations/BloodImage_00314.xml\n",
      "processing: data/annotations/BloodImage_00302.xml\n",
      "processing: data/annotations/BloodImage_00100.xml\n",
      "processing: data/annotations/BloodImage_00114.xml\n",
      "processing: data/annotations/BloodImage_00074.xml\n",
      "processing: data/annotations/BloodImage_00048.xml\n",
      "processing: data/annotations/BloodImage_00289.xml\n",
      "processing: data/annotations/BloodImage_00276.xml\n",
      "processing: data/annotations/BloodImage_00262.xml\n",
      "processing: data/annotations/BloodImage_00263.xml\n",
      "processing: data/annotations/BloodImage_00277.xml\n",
      "processing: data/annotations/BloodImage_00288.xml\n",
      "processing: data/annotations/BloodImage_00049.xml\n",
      "processing: data/annotations/BloodImage_00075.xml\n",
      "processing: data/annotations/BloodImage_00115.xml\n",
      "processing: data/annotations/BloodImage_00101.xml\n",
      "processing: data/annotations/BloodImage_00317.xml\n",
      "processing: data/annotations/BloodImage_00307.xml\n",
      "processing: data/annotations/BloodImage_00313.xml\n",
      "processing: data/annotations/BloodImage_00139.xml\n",
      "processing: data/annotations/BloodImage_00111.xml\n",
      "processing: data/annotations/BloodImage_00059.xml\n",
      "processing: data/annotations/BloodImage_00071.xml\n",
      "processing: data/annotations/BloodImage_00065.xml\n",
      "processing: data/annotations/BloodImage_00298.xml\n",
      "processing: data/annotations/BloodImage_00273.xml\n",
      "processing: data/annotations/BloodImage_00266.xml\n",
      "processing: data/annotations/BloodImage_00272.xml\n",
      "processing: data/annotations/BloodImage_00299.xml\n",
      "processing: data/annotations/BloodImage_00064.xml\n",
      "processing: data/annotations/BloodImage_00070.xml\n",
      "processing: data/annotations/BloodImage_00058.xml\n",
      "processing: data/annotations/BloodImage_00110.xml\n",
      "processing: data/annotations/BloodImage_00104.xml\n",
      "processing: data/annotations/BloodImage_00312.xml\n",
      "processing: data/annotations/BloodImage_00338.xml\n",
      "processing: data/annotations/BloodImage_00310.xml\n",
      "processing: data/annotations/BloodImage_00304.xml\n",
      "processing: data/annotations/BloodImage_00112.xml\n",
      "processing: data/annotations/BloodImage_00106.xml\n",
      "processing: data/annotations/BloodImage_00099.xml\n",
      "processing: data/annotations/BloodImage_00066.xml\n",
      "processing: data/annotations/BloodImage_00072.xml\n",
      "processing: data/annotations/BloodImage_00264.xml\n",
      "processing: data/annotations/BloodImage_00271.xml\n",
      "processing: data/annotations/BloodImage_00265.xml\n",
      "processing: data/annotations/BloodImage_00259.xml\n",
      "processing: data/annotations/BloodImage_00073.xml\n",
      "processing: data/annotations/BloodImage_00067.xml\n",
      "processing: data/annotations/BloodImage_00098.xml\n",
      "processing: data/annotations/BloodImage_00107.xml\n",
      "processing: data/annotations/BloodImage_00113.xml\n",
      "processing: data/annotations/BloodImage_00305.xml\n",
      "processing: data/annotations/BloodImage_00311.xml\n",
      "processing: data/annotations/BloodImage_00339.xml\n",
      "processing: data/annotations/BloodImage_00389.xml\n",
      "processing: data/annotations/BloodImage_00410.xml\n",
      "processing: data/annotations/BloodImage_00376.xml\n",
      "processing: data/annotations/BloodImage_00362.xml\n",
      "processing: data/annotations/BloodImage_00404.xml\n",
      "processing: data/annotations/BloodImage_00174.xml\n",
      "processing: data/annotations/BloodImage_00160.xml\n",
      "processing: data/annotations/BloodImage_00148.xml\n",
      "processing: data/annotations/BloodImage_00000.xml\n",
      "processing: data/annotations/BloodImage_00014.xml\n",
      "processing: data/annotations/BloodImage_00028.xml\n",
      "processing: data/annotations/BloodImage_00202.xml\n",
      "processing: data/annotations/BloodImage_00216.xml\n",
      "processing: data/annotations/BloodImage_00217.xml\n",
      "processing: data/annotations/BloodImage_00203.xml\n",
      "processing: data/annotations/BloodImage_00029.xml\n",
      "processing: data/annotations/BloodImage_00015.xml\n",
      "processing: data/annotations/BloodImage_00001.xml\n",
      "processing: data/annotations/BloodImage_00149.xml\n",
      "processing: data/annotations/BloodImage_00161.xml\n",
      "processing: data/annotations/BloodImage_00175.xml\n",
      "processing: data/annotations/BloodImage_00405.xml\n",
      "processing: data/annotations/BloodImage_00377.xml\n",
      "processing: data/annotations/BloodImage_00388.xml\n",
      "processing: data/annotations/BloodImage_00407.xml\n",
      "processing: data/annotations/BloodImage_00361.xml\n",
      "processing: data/annotations/BloodImage_00375.xml\n",
      "processing: data/annotations/BloodImage_00349.xml\n",
      "processing: data/annotations/BloodImage_00163.xml\n",
      "processing: data/annotations/BloodImage_00177.xml\n",
      "processing: data/annotations/BloodImage_00017.xml\n",
      "processing: data/annotations/BloodImage_00003.xml\n",
      "processing: data/annotations/BloodImage_00215.xml\n",
      "processing: data/annotations/BloodImage_00201.xml\n",
      "processing: data/annotations/BloodImage_00229.xml\n",
      "processing: data/annotations/BloodImage_00228.xml\n",
      "processing: data/annotations/BloodImage_00200.xml\n",
      "processing: data/annotations/BloodImage_00214.xml\n",
      "processing: data/annotations/BloodImage_00002.xml\n",
      "processing: data/annotations/BloodImage_00016.xml\n",
      "processing: data/annotations/BloodImage_00176.xml\n",
      "processing: data/annotations/BloodImage_00162.xml\n",
      "processing: data/annotations/BloodImage_00189.xml\n",
      "processing: data/annotations/BloodImage_00348.xml\n",
      "processing: data/annotations/BloodImage_00374.xml\n",
      "processing: data/annotations/BloodImage_00360.xml\n",
      "processing: data/annotations/BloodImage_00364.xml\n",
      "processing: data/annotations/BloodImage_00402.xml\n",
      "processing: data/annotations/BloodImage_00370.xml\n",
      "processing: data/annotations/BloodImage_00199.xml\n",
      "processing: data/annotations/BloodImage_00166.xml\n",
      "processing: data/annotations/BloodImage_00172.xml\n",
      "processing: data/annotations/BloodImage_00012.xml\n",
      "processing: data/annotations/BloodImage_00006.xml\n",
      "processing: data/annotations/BloodImage_00210.xml\n",
      "processing: data/annotations/BloodImage_00204.xml\n",
      "processing: data/annotations/BloodImage_00205.xml\n",
      "processing: data/annotations/BloodImage_00211.xml\n",
      "processing: data/annotations/BloodImage_00239.xml\n",
      "processing: data/annotations/BloodImage_00007.xml\n",
      "processing: data/annotations/BloodImage_00013.xml\n",
      "processing: data/annotations/BloodImage_00167.xml\n",
      "processing: data/annotations/BloodImage_00198.xml\n",
      "processing: data/annotations/BloodImage_00371.xml\n",
      "processing: data/annotations/BloodImage_00365.xml\n",
      "processing: data/annotations/BloodImage_00403.xml\n",
      "processing: data/annotations/BloodImage_00359.xml\n",
      "processing: data/annotations/BloodImage_00398.xml\n",
      "processing: data/annotations/BloodImage_00367.xml\n",
      "processing: data/annotations/BloodImage_00159.xml\n",
      "processing: data/annotations/BloodImage_00171.xml\n",
      "processing: data/annotations/BloodImage_00165.xml\n",
      "processing: data/annotations/BloodImage_00039.xml\n",
      "processing: data/annotations/BloodImage_00005.xml\n",
      "processing: data/annotations/BloodImage_00011.xml\n",
      "processing: data/annotations/BloodImage_00207.xml\n",
      "processing: data/annotations/BloodImage_00212.xml\n",
      "processing: data/annotations/BloodImage_00206.xml\n",
      "processing: data/annotations/BloodImage_00010.xml\n",
      "processing: data/annotations/BloodImage_00004.xml\n",
      "processing: data/annotations/BloodImage_00038.xml\n",
      "processing: data/annotations/BloodImage_00164.xml\n",
      "processing: data/annotations/BloodImage_00170.xml\n",
      "processing: data/annotations/BloodImage_00158.xml\n",
      "processing: data/annotations/BloodImage_00400.xml\n",
      "processing: data/annotations/BloodImage_00366.xml\n",
      "processing: data/annotations/BloodImage_00372.xml\n",
      "processing: data/annotations/BloodImage_00357.xml\n",
      "processing: data/annotations/BloodImage_00343.xml\n",
      "processing: data/annotations/BloodImage_00196.xml\n",
      "processing: data/annotations/BloodImage_00182.xml\n",
      "processing: data/annotations/BloodImage_00141.xml\n",
      "processing: data/annotations/BloodImage_00169.xml\n",
      "processing: data/annotations/BloodImage_00021.xml\n",
      "processing: data/annotations/BloodImage_00035.xml\n",
      "processing: data/annotations/BloodImage_00009.xml\n",
      "processing: data/annotations/BloodImage_00223.xml\n",
      "processing: data/annotations/BloodImage_00237.xml\n",
      "processing: data/annotations/BloodImage_00236.xml\n",
      "processing: data/annotations/BloodImage_00222.xml\n",
      "processing: data/annotations/BloodImage_00008.xml\n",
      "processing: data/annotations/BloodImage_00034.xml\n",
      "processing: data/annotations/BloodImage_00020.xml\n",
      "processing: data/annotations/BloodImage_00168.xml\n",
      "processing: data/annotations/BloodImage_00140.xml\n",
      "processing: data/annotations/BloodImage_00154.xml\n",
      "processing: data/annotations/BloodImage_00183.xml\n",
      "processing: data/annotations/BloodImage_00197.xml\n",
      "processing: data/annotations/BloodImage_00342.xml\n",
      "processing: data/annotations/BloodImage_00356.xml\n",
      "processing: data/annotations/BloodImage_00381.xml\n",
      "processing: data/annotations/BloodImage_00395.xml\n"
     ]
    },
    {
     "name": "stdout",
     "output_type": "stream",
     "text": [
      "processing: data/annotations/BloodImage_00383.xml\n",
      "processing: data/annotations/BloodImage_00397.xml\n",
      "processing: data/annotations/BloodImage_00340.xml\n",
      "processing: data/annotations/BloodImage_00354.xml\n",
      "processing: data/annotations/BloodImage_00368.xml\n",
      "processing: data/annotations/BloodImage_00195.xml\n",
      "processing: data/annotations/BloodImage_00142.xml\n",
      "processing: data/annotations/BloodImage_00156.xml\n",
      "processing: data/annotations/BloodImage_00036.xml\n",
      "processing: data/annotations/BloodImage_00022.xml\n",
      "processing: data/annotations/BloodImage_00234.xml\n",
      "processing: data/annotations/BloodImage_00220.xml\n",
      "processing: data/annotations/BloodImage_00208.xml\n",
      "processing: data/annotations/BloodImage_00209.xml\n",
      "processing: data/annotations/BloodImage_00221.xml\n",
      "processing: data/annotations/BloodImage_00235.xml\n",
      "processing: data/annotations/BloodImage_00023.xml\n",
      "processing: data/annotations/BloodImage_00037.xml\n",
      "processing: data/annotations/BloodImage_00157.xml\n",
      "processing: data/annotations/BloodImage_00143.xml\n",
      "processing: data/annotations/BloodImage_00180.xml\n",
      "processing: data/annotations/BloodImage_00369.xml\n",
      "processing: data/annotations/BloodImage_00355.xml\n",
      "processing: data/annotations/BloodImage_00341.xml\n",
      "processing: data/annotations/BloodImage_00396.xml\n",
      "processing: data/annotations/BloodImage_00382.xml\n",
      "processing: data/annotations/BloodImage_00386.xml\n",
      "processing: data/annotations/BloodImage_00392.xml\n",
      "processing: data/annotations/BloodImage_00379.xml\n",
      "processing: data/annotations/BloodImage_00345.xml\n",
      "processing: data/annotations/BloodImage_00351.xml\n",
      "processing: data/annotations/BloodImage_00184.xml\n",
      "processing: data/annotations/BloodImage_00190.xml\n",
      "processing: data/annotations/BloodImage_00033.xml\n",
      "processing: data/annotations/BloodImage_00219.xml\n",
      "processing: data/annotations/BloodImage_00231.xml\n",
      "processing: data/annotations/BloodImage_00225.xml\n",
      "processing: data/annotations/BloodImage_00230.xml\n",
      "processing: data/annotations/BloodImage_00218.xml\n",
      "processing: data/annotations/BloodImage_00026.xml\n",
      "processing: data/annotations/BloodImage_00032.xml\n",
      "processing: data/annotations/BloodImage_00191.xml\n",
      "processing: data/annotations/BloodImage_00344.xml\n",
      "processing: data/annotations/BloodImage_00378.xml\n",
      "processing: data/annotations/BloodImage_00393.xml\n",
      "processing: data/annotations/BloodImage_00387.xml\n",
      "processing: data/annotations/BloodImage_00391.xml\n",
      "processing: data/annotations/BloodImage_00385.xml\n",
      "processing: data/annotations/BloodImage_00408.xml\n",
      "processing: data/annotations/BloodImage_00352.xml\n",
      "processing: data/annotations/BloodImage_00346.xml\n",
      "processing: data/annotations/BloodImage_00193.xml\n",
      "processing: data/annotations/BloodImage_00178.xml\n",
      "processing: data/annotations/BloodImage_00144.xml\n",
      "processing: data/annotations/BloodImage_00018.xml\n",
      "processing: data/annotations/BloodImage_00024.xml\n",
      "processing: data/annotations/BloodImage_00030.xml\n",
      "processing: data/annotations/BloodImage_00226.xml\n",
      "processing: data/annotations/BloodImage_00232.xml\n",
      "processing: data/annotations/BloodImage_00233.xml\n",
      "processing: data/annotations/BloodImage_00227.xml\n",
      "processing: data/annotations/BloodImage_00031.xml\n",
      "processing: data/annotations/BloodImage_00019.xml\n",
      "processing: data/annotations/BloodImage_00145.xml\n",
      "processing: data/annotations/BloodImage_00179.xml\n",
      "processing: data/annotations/BloodImage_00192.xml\n",
      "processing: data/annotations/BloodImage_00347.xml\n",
      "processing: data/annotations/BloodImage_00353.xml\n",
      "processing: data/annotations/BloodImage_00409.xml\n",
      "processing: data/annotations/BloodImage_00384.xml\n",
      "processing: data/annotations/BloodImage_00390.xml\n",
      "processing: data/annotations/BloodImage_00334.xml\n",
      "processing: data/annotations/BloodImage_00320.xml\n",
      "processing: data/annotations/BloodImage_00308.xml\n",
      "processing: data/annotations/BloodImage_00136.xml\n",
      "processing: data/annotations/BloodImage_00081.xml\n",
      "processing: data/annotations/BloodImage_00095.xml\n",
      "processing: data/annotations/BloodImage_00056.xml\n",
      "processing: data/annotations/BloodImage_00283.xml\n",
      "processing: data/annotations/BloodImage_00297.xml\n",
      "processing: data/annotations/BloodImage_00240.xml\n",
      "processing: data/annotations/BloodImage_00254.xml\n",
      "processing: data/annotations/BloodImage_00269.xml\n",
      "processing: data/annotations/BloodImage_00255.xml\n",
      "processing: data/annotations/BloodImage_00241.xml\n",
      "processing: data/annotations/BloodImage_00296.xml\n",
      "processing: data/annotations/BloodImage_00282.xml\n",
      "processing: data/annotations/BloodImage_00057.xml\n",
      "processing: data/annotations/BloodImage_00043.xml\n",
      "processing: data/annotations/BloodImage_00094.xml\n",
      "processing: data/annotations/BloodImage_00123.xml\n",
      "processing: data/annotations/BloodImage_00137.xml\n",
      "processing: data/annotations/BloodImage_00309.xml\n",
      "processing: data/annotations/BloodImage_00335.xml\n",
      "processing: data/annotations/BloodImage_00337.xml\n",
      "processing: data/annotations/BloodImage_00135.xml\n",
      "processing: data/annotations/BloodImage_00109.xml\n",
      "processing: data/annotations/BloodImage_00082.xml\n",
      "processing: data/annotations/BloodImage_00055.xml\n",
      "processing: data/annotations/BloodImage_00041.xml\n",
      "processing: data/annotations/BloodImage_00069.xml\n",
      "processing: data/annotations/BloodImage_00294.xml\n",
      "processing: data/annotations/BloodImage_00257.xml\n",
      "processing: data/annotations/BloodImage_00243.xml\n",
      "processing: data/annotations/BloodImage_00242.xml\n",
      "processing: data/annotations/BloodImage_00256.xml\n",
      "processing: data/annotations/BloodImage_00281.xml\n",
      "processing: data/annotations/BloodImage_00295.xml\n",
      "processing: data/annotations/BloodImage_00068.xml\n",
      "processing: data/annotations/BloodImage_00040.xml\n",
      "processing: data/annotations/BloodImage_00054.xml\n",
      "processing: data/annotations/BloodImage_00097.xml\n",
      "processing: data/annotations/BloodImage_00108.xml\n",
      "processing: data/annotations/BloodImage_00120.xml\n",
      "processing: data/annotations/BloodImage_00336.xml\n",
      "processing: data/annotations/BloodImage_00326.xml\n",
      "processing: data/annotations/BloodImage_00332.xml\n",
      "processing: data/annotations/BloodImage_00124.xml\n",
      "processing: data/annotations/BloodImage_00130.xml\n",
      "processing: data/annotations/BloodImage_00093.xml\n",
      "processing: data/annotations/BloodImage_00087.xml\n",
      "processing: data/annotations/BloodImage_00078.xml\n",
      "processing: data/annotations/BloodImage_00050.xml\n",
      "processing: data/annotations/BloodImage_00044.xml\n",
      "processing: data/annotations/BloodImage_00291.xml\n",
      "processing: data/annotations/BloodImage_00285.xml\n",
      "processing: data/annotations/BloodImage_00252.xml\n",
      "processing: data/annotations/BloodImage_00246.xml\n",
      "processing: data/annotations/BloodImage_00247.xml\n",
      "processing: data/annotations/BloodImage_00253.xml\n",
      "processing: data/annotations/BloodImage_00284.xml\n",
      "processing: data/annotations/BloodImage_00290.xml\n",
      "processing: data/annotations/BloodImage_00045.xml\n",
      "processing: data/annotations/BloodImage_00079.xml\n",
      "processing: data/annotations/BloodImage_00092.xml\n",
      "processing: data/annotations/BloodImage_00125.xml\n",
      "processing: data/annotations/BloodImage_00333.xml\n",
      "processing: data/annotations/BloodImage_00319.xml\n",
      "processing: data/annotations/BloodImage_00331.xml\n",
      "processing: data/annotations/BloodImage_00325.xml\n",
      "processing: data/annotations/BloodImage_00133.xml\n",
      "processing: data/annotations/BloodImage_00127.xml\n",
      "processing: data/annotations/BloodImage_00090.xml\n",
      "processing: data/annotations/BloodImage_00047.xml\n",
      "processing: data/annotations/BloodImage_00053.xml\n",
      "processing: data/annotations/BloodImage_00292.xml\n",
      "processing: data/annotations/BloodImage_00279.xml\n",
      "processing: data/annotations/BloodImage_00245.xml\n",
      "processing: data/annotations/BloodImage_00251.xml\n",
      "processing: data/annotations/BloodImage_00244.xml\n",
      "processing: data/annotations/BloodImage_00278.xml\n",
      "processing: data/annotations/BloodImage_00293.xml\n",
      "processing: data/annotations/BloodImage_00287.xml\n",
      "processing: data/annotations/BloodImage_00052.xml\n",
      "processing: data/annotations/BloodImage_00046.xml\n",
      "processing: data/annotations/BloodImage_00091.xml\n",
      "processing: data/annotations/BloodImage_00126.xml\n",
      "processing: data/annotations/BloodImage_00132.xml\n",
      "processing: data/annotations/BloodImage_00324.xml\n",
      "processing: data/annotations/BloodImage_00318.xml\n"
     ]
    },
    {
     "data": {
      "text/plain": [
       "(13, 13, 5, 6)"
      ]
     },
     "execution_count": 14,
     "metadata": {},
     "output_type": "execute_result"
    }
   ],
   "source": [
    "(train_x, train_y), (test_x, test_y) = get_data('data')\n",
    "train_y[0].shape"
   ]
  },
  {
   "cell_type": "code",
   "execution_count": 15,
   "metadata": {
    "ExecuteTime": {
     "end_time": "2018-12-28T06:32:50.435314Z",
     "start_time": "2018-12-28T06:32:50.386071Z"
    }
   },
   "outputs": [
    {
     "data": {
      "text/plain": [
       "array([0.46274038, 1.        , 1.        , 1.        , 1.        ,\n",
       "       0.64543269, 1.        , 1.        , 0.92307692, 0.33533654,\n",
       "       1.        , 1.        , 0.33173077, 0.39423077, 1.        ,\n",
       "       1.        , 0.51081731, 0.52644231, 1.        , 1.        ,\n",
       "       0.66346154, 0.50480769, 1.        , 1.        , 0.58894231,\n",
       "       1.        , 1.        , 0.359375  , 0.65024038, 1.        ,\n",
       "       1.        , 0.76442308, 0.71754808, 1.        , 1.        ])"
      ]
     },
     "execution_count": 15,
     "metadata": {},
     "output_type": "execute_result"
    }
   ],
   "source": [
    "# format_prediction(train_y[100], threshold=.6)\n",
    "train_y[0][np.where(train_y[0] > 0.3)]"
   ]
  },
  {
   "cell_type": "code",
   "execution_count": 16,
   "metadata": {
    "ExecuteTime": {
     "end_time": "2018-12-28T06:32:51.025510Z",
     "start_time": "2018-12-28T06:32:50.439085Z"
    }
   },
   "outputs": [
    {
     "name": "stdout",
     "output_type": "stream",
     "text": [
      "239\n",
      "246\n",
      "255\n",
      "13\n",
      "[(0.7620192307692308, 0.9326923076923077, 0.0, 0.13942307692307693, 0.7310585786300049, array([0.73105858])), (0.06971153846153846, 0.21394230769230768, 0.0, 0.15625, 0.7310585786300049, array([0.73105858])), (0.5745192307692308, 0.7091346153846154, 0.0, 0.23317307692307693, 0.7310585786300049, array([0.73105858])), (0.625, 0.7836538461538463, 0.16826923076923078, 0.4134615384615385, 0.7310585786300049, array([0.73105858])), (0.4375, 0.6033653846153846, 0.23798076923076925, 0.5024038461538461, 0.7310585786300049, array([0.73105858])), (0.04326923076923077, 0.16826923076923078, 0.3245192307692308, 0.5144230769230769, 0.7310585786300049, array([0.73105858])), (0.8125, 0.9711538461538463, 0.3004807692307692, 0.5456730769230769, 0.7310585786300049, array([0.73105858])), (0.28125, 0.4471153846153846, 0.5865384615384616, 0.7788461538461539, 0.7310585786300049, array([0.73105858])), (0.4831730769230769, 0.6418269230769231, 0.5144230769230769, 0.7620192307692308, 0.7310585786300049, array([0.73105858])), (0.0, 0.14182692307692307, 0.5841346153846154, 0.8076923076923077, 0.7310585786300049, array([0.73105858])), (0.8461538461538463, 1.0, 0.7283653846153846, 0.9182692307692308, 0.7310585786300049, array([0.73105858])), (0.07451923076923077, 0.27163461538461536, 0.84375, 1.0, 0.7310585786300049, array([0.73105858])), (0.48557692307692313, 0.6466346153846154, 0.75, 0.9831730769230769, 0.7310585786300049, array([0.73105858]))]\n"
     ]
    },
    {
     "data": {
      "image/png": "[encoded data removed]",
      "text/plain": [
       "<Figure size 432x288 with 1 Axes>"
      ]
     },
     "metadata": {
      "needs_background": "light"
     },
     "output_type": "display_data"
    }
   ],
   "source": [
    "boxes = format_prediction(train_y[199] * 1, threshold=.6)\n",
    "print(max((train_x[5]).ravel()))\n",
    "img = draw_boxes(train_x[199] * 1, boxes)\n",
    "print(max(img.ravel()))\n",
    "print(max(train_x[200].ravel()))\n",
    "plt.imshow(img)\n",
    "print(len(boxes))\n",
    "print(boxes)"
   ]
  },
  {
   "cell_type": "code",
   "execution_count": null,
   "metadata": {},
   "outputs": [],
   "source": [
    "optimizer = Adam(lr=0.5e-4, beta_1=0.9, beta_2=0.999, epsilon=1e-08, decay=0.0)\n",
    "model.compile(loss=custom_loss, optimizer=optimizer)\n",
    "\n",
    "model.fit(train_x, train_y, epochs=3, batch_size=35)"
   ]
  }
 ],
 "metadata": {
  "kernelspec": {
   "display_name": "Python 3",
   "language": "python",
   "name": "python3"
  },
  "language_info": {
   "codemirror_mode": {
    "name": "ipython",
    "version": 3
   },
   "file_extension": ".py",
   "mimetype": "text/x-python",
   "name": "python",
   "nbconvert_exporter": "python",
   "pygments_lexer": "ipython3",
   "version": "3.6.5"
  }
 },
 "nbformat": 4,
 "nbformat_minor": 2
}
