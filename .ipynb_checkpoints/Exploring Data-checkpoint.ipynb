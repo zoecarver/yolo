{
 "cells": [
  {
   "cell_type": "code",
   "execution_count": 2,
   "metadata": {
    "collapsed": false
   },
   "outputs": [],
   "source": [
    "from glob import glob\n",
    "import xml.etree.ElementTree as ET\n",
    "\n",
    "import json\n",
    "\n",
    "import cv2\n",
    "\n",
    "import matplotlib\n",
    "matplotlib.use('agg')\n",
    "%matplotlib inline\n",
    "import matplotlib.pyplot as plt\n",
    "\n",
    "import pickle\n",
    "\n",
    "from time import time"
   ]
  },
  {
   "cell_type": "code",
   "execution_count": 3,
   "metadata": {
    "collapsed": false
   },
   "outputs": [],
   "source": [
    "def find(lst, key, value):\n",
    "    for i, dic in enumerate(lst):\n",
    "        if dic[key] == value:\n",
    "            return i\n",
    "    return None\n",
    "\n",
    "\n",
    "colors = [ # yeah I spent a lot of time picking colors :P\n",
    "    (244, 134, 66),\n",
    "    (66, 134, 244),\n",
    "    (216, 216, 216),\n",
    "    (0, 105, 211), \n",
    "    (0, 28, 55),\n",
    "    (51, 87, 255),\n",
    "    (218, 247, 166),\n",
    "] * 100\n",
    "\n",
    "def draw_boxes(image, boxes):\n",
    "    height_scalar = 1 # multiply by height\n",
    "    width_scalar = 1\n",
    "        \n",
    "    for box in boxes:\n",
    "        xmin, xmax, ymin, ymax, objectness, classes = box\n",
    "        xmin = int(xmin * width_scalar)\n",
    "        xmax = int(xmax * width_scalar) \n",
    "        ymin = int(ymin * height_scalar) \n",
    "        ymax = int(ymax * height_scalar)\n",
    "        \n",
    "        main_class = 1\n",
    "        \n",
    "        font = cv2.FONT_HERSHEY_PLAIN\n",
    "        image = cv2.rectangle(image, (xmin, ymin), (xmax, ymax), colors[main_class], 6)\n",
    "                            \n",
    "    return image  "
   ]
  },
  {
   "cell_type": "code",
   "execution_count": null,
   "metadata": {
    "collapsed": false
   },
   "outputs": [],
   "source": [
    "with open('annotations/instances_train2017.json') as f:\n",
    "    data = json.load(f)"
   ]
  },
  {
   "cell_type": "code",
   "execution_count": null,
   "metadata": {
    "collapsed": false
   },
   "outputs": [],
   "source": [
    "for a in data['annotations']:\n",
    "    if 'segmentation' in a.keys():\n",
    "        del a['segmentation']\n",
    "print(len(data['annotations']), data.keys(), '\\n')\n",
    "print(data['annotations'][1100], '\\n')\n",
    "e = data['annotations'][1100]\n",
    "image_index = find(data['images'], 'id', e['image_id'])\n",
    "image_obj = data['images'][image_index]\n",
    "print(image_obj)\n",
    "data['categories'][find(data['categories'], 'id', e['category_id'])], image_index"
   ]
  },
  {
   "cell_type": "code",
   "execution_count": null,
   "metadata": {
    "collapsed": false
   },
   "outputs": [],
   "source": [
    "x, y, width, height = e['bbox']\n",
    "\n",
    "xmin = x\n",
    "xmax = x + width\n",
    "ymin = y\n",
    "ymax = y + height\n",
    "\n",
    "boxes = [(xmax, xmin, ymax, ymin, 1, 1)]\n",
    "x, y, width, height"
   ]
  },
  {
   "cell_type": "code",
   "execution_count": null,
   "metadata": {
    "collapsed": false,
    "scrolled": true
   },
   "outputs": [],
   "source": [
    "image = cv2.imread('train2017/' + image_obj['file_name'])\n",
    "image = draw_boxes(image, boxes)\n",
    "plt.imshow(image[..., ::-1])\n",
    "file"
   ]
  },
  {
   "cell_type": "code",
   "execution_count": null,
   "metadata": {
    "collapsed": true
   },
   "outputs": [],
   "source": [
    "def save_object(obj, filename):\n",
    "    with open(filename, 'wb') as output:  # Overwrites any existing file.\n",
    "        pickle.dump(obj, output, pickle.HIGHEST_PROTOCOL)"
   ]
  },
  {
   "cell_type": "code",
   "execution_count": 1,
   "metadata": {
    "collapsed": false
   },
   "outputs": [
    {
     "ename": "NameError",
     "evalue": "name 'data' is not defined",
     "output_type": "error",
     "traceback": [
      "\u001b[1;31m---------------------------------------------------------------------------\u001b[0m",
      "\u001b[1;31mNameError\u001b[0m                                 Traceback (most recent call last)",
      "\u001b[1;32m<ipython-input-1-d7e77b1ce2e7>\u001b[0m in \u001b[0;36m<module>\u001b[1;34m()\u001b[0m\n\u001b[0;32m      5\u001b[0m \u001b[1;33m\u001b[0m\u001b[0m\n\u001b[0;32m      6\u001b[0m \u001b[0mcount\u001b[0m \u001b[1;33m=\u001b[0m \u001b[1;36m0\u001b[0m\u001b[1;33m\u001b[0m\u001b[0m\n\u001b[1;32m----> 7\u001b[1;33m \u001b[1;32mfor\u001b[0m \u001b[0me\u001b[0m \u001b[1;32min\u001b[0m \u001b[0mdata\u001b[0m\u001b[1;33m[\u001b[0m\u001b[1;34m'annotations'\u001b[0m\u001b[1;33m]\u001b[0m\u001b[1;33m:\u001b[0m\u001b[1;33m\u001b[0m\u001b[0m\n\u001b[0m\u001b[0;32m      8\u001b[0m     \u001b[0mstart\u001b[0m \u001b[1;33m=\u001b[0m \u001b[0mtime\u001b[0m\u001b[1;33m(\u001b[0m\u001b[1;33m)\u001b[0m\u001b[1;33m\u001b[0m\u001b[0m\n\u001b[0;32m      9\u001b[0m \u001b[1;33m\u001b[0m\u001b[0m\n",
      "\u001b[1;31mNameError\u001b[0m: name 'data' is not defined"
     ]
    }
   ],
   "source": [
    "images = []\n",
    "annotations = []\n",
    "\n",
    "times = []\n",
    "\n",
    "count = 0\n",
    "for e in data['annotations']:\n",
    "    start = time()\n",
    "    \n",
    "    if count % 500 == 0:\n",
    "        print('%f percent completed' % (count / len(data['annotations'])))\n",
    "        print('average time %f' % (sum(times) / len(times)))\n",
    "    \n",
    "    image_index = find(data['images'], 'id', e['image_id'])\n",
    "    image_obj = data['images'][image_index]\n",
    "    image = cv2.imread('train2017/' + image_obj['file_name'])\n",
    "    \n",
    "    x, y, width, height = e['bbox']\n",
    "\n",
    "    xmin = x\n",
    "    xmax = x + width\n",
    "    ymin = y\n",
    "    ymax = y + height\n",
    "    \n",
    "    obj = {\n",
    "        'name': e['category_id'],\n",
    "        'xmin': xmin,\n",
    "        'xmax': xmax,\n",
    "        'ymin': ymin,\n",
    "        'ymax': ymax\n",
    "    }\n",
    "    \n",
    "    annotations += [obj]\n",
    "    images += [image]\n",
    "    \n",
    "    tiems += [time() - start]\n",
    "    count += 1\n",
    "    \n",
    "save_object(images, 'all_images.pkl')\n",
    "save_object(annotations, 'all_annotations.pkl')"
   ]
  },
  {
   "cell_type": "code",
   "execution_count": null,
   "metadata": {
    "collapsed": true
   },
   "outputs": [],
   "source": []
  }
 ],
 "metadata": {
  "kernelspec": {
   "display_name": "Python 3",
   "language": "python",
   "name": "python3"
  },
  "language_info": {
   "codemirror_mode": {
    "name": "ipython",
    "version": 3
   },
   "file_extension": ".py",
   "mimetype": "text/x-python",
   "name": "python",
   "nbconvert_exporter": "python",
   "pygments_lexer": "ipython3",
   "version": "3.5.1"
  }
 },
 "nbformat": 4,
 "nbformat_minor": 0
}
